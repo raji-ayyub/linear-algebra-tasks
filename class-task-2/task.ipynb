{
 "cells": [
  {
   "cell_type": "markdown",
   "id": "b8cb05a4",
   "metadata": {},
   "source": [
    "# Multiplication of matrices "
   ]
  },
  {
   "cell_type": "markdown",
   "id": "c1a5386e",
   "metadata": {},
   "source": [
    "### Question 1: \n",
    "matrix A =\n",
    "\\begin{bmatrix}\n",
    " 2 & -1 \\\\\n",
    " 0 & 3\n",
    "\\end{bmatrix}\n",
    "\n",
    "\n",
    "matrix B = \n",
    "\\begin{bmatrix}\n",
    " 1 & -2 \\\\\n",
    " 4 & 5\n",
    "\\end{bmatrix}\n",
    "\n",
    "where scalers: c = 2 & d = 3;\n",
    "\n",
    "1. i.> cA = [[ 2•2   2•(-1)],\n",
    "             [2•0    2•3   ]]\n",
    "\n",
    "       cA = [[4  -2],\n",
    "            [0   6]]\n",
    "\n",
    "\n",
    "\n",
    "\n",
    "1. ii.> cB:\n",
    "          cB = [[ 3•1   3•(-2)],\n",
    "             [3•4    3•5   ]]\n",
    "\n",
    "          cB = [[3  -6],\n",
    "                [12   15]]\n",
    "\n",
    "\n",
    "\n",
    "1. iii.> (c+b)A  = where c + b= 2 + 3 = 5;\n",
    "\n",
    "             (c+b)A = [[ 5•2   5•(-1)],\n",
    "                       [5•0    5•3   ]]\n",
    "\n",
    "\n",
    "               (c+b)A = [[10  -5],\n",
    "                         [0   15]]\n",
    "            \n",
    "            AB = [[ 2•1 + (-1•-2) + 3•5          2•2 + (-1•0) + 3•(-3)],\n",
    "                  [0•1 + 4•(-2) + 1•5             0•2 + 4•0 + 1•(-3)]]\n",
    "            \n",
    "            AB = [[19  -5],\n",
    "                  [-3   -3]]\n",
    "\n",
    "\n",
    "\n",
    "\n",
    "\n",
    "\n",
    "1. A has 2 rows and 3 columns i.e 2by3 matrix, while B has 3 rows and 2 columns i.e 3by2 matrix.\n",
    "2. number of rows in A = number of rows in B i.e can be multiplied in order 'AB', and 'BA' is possible as well but ill go with order 'AB' for this task.\n",
    "\n"
   ]
  }
 ],
 "metadata": {
  "kernelspec": {
   "display_name": ".venv",
   "language": "python",
   "name": "python3"
  },
  "language_info": {
   "codemirror_mode": {
    "name": "ipython",
    "version": 3
   },
   "file_extension": ".py",
   "mimetype": "text/x-python",
   "name": "python",
   "nbconvert_exporter": "python",
   "pygments_lexer": "ipython3",
   "version": "3.13.7"
  }
 },
 "nbformat": 4,
 "nbformat_minor": 5
}
