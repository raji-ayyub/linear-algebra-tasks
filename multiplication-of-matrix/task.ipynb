{
 "cells": [
  {
   "cell_type": "markdown",
   "id": "b8cb05a4",
   "metadata": {},
   "source": [
    "# Multiplication of matrices "
   ]
  },
  {
   "cell_type": "markdown",
   "id": "c1a5386e",
   "metadata": {},
   "source": [
    "### Question 1: \n",
    "\n",
    "A = [[2  -1  3],\n",
    "     [0   4  1]]\n",
    "\n",
    "B = [[ 1   2],\n",
    "     [-2   0],\n",
    "     [ 5  -3]]\n",
    "\n",
    "\n",
    "1. A has 2 rows and 3 columns i.e 2by3 matrix, while B has 3 rows and 2 columns i.e 3by2 matrix.\n",
    "2. number of rows in A = number of rows in B i.e can be multiplied in order 'AB', and 'BA' is possible as well but ill go with order 'AB' for this task.\n",
    "\n"
   ]
  },
  {
   "cell_type": "markdown",
   "id": "a02440a6",
   "metadata": {},
   "source": [
    "### Que.3 Solution - Workings"
   ]
  },
  {
   "cell_type": "code",
   "execution_count": null,
   "id": "f77e8b79",
   "metadata": {},
   "outputs": [],
   "source": [
    "import numpy as np \n",
    "import pandas as pd \n",
    "\n",
    "\n",
    "A = np.array([[2,  -1,  3],\n",
    "              [0,   4,  1]])\n",
    "\n",
    "B = [[ 1,   2],\n",
    "     [-2,   0],\n",
    "     [ 5,  -3]]\n"
   ]
  }
 ],
 "metadata": {
  "kernelspec": {
   "display_name": ".venv",
   "language": "python",
   "name": "python3"
  },
  "language_info": {
   "codemirror_mode": {
    "name": "ipython",
    "version": 3
   },
   "file_extension": ".py",
   "mimetype": "text/x-python",
   "name": "python",
   "nbconvert_exporter": "python",
   "pygments_lexer": "ipython3",
   "version": "3.13.7"
  }
 },
 "nbformat": 4,
 "nbformat_minor": 5
}
